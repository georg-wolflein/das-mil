{
 "cells": [
  {
   "cell_type": "code",
   "execution_count": 1,
   "metadata": {},
   "outputs": [
    {
     "name": "stderr",
     "output_type": "stream",
     "text": [
      "/Users/georg/Projects/mil/mil_env/lib/python3.9/site-packages/tqdm/auto.py:22: TqdmWarning: IProgress not found. Please update jupyter and ipywidgets. See https://ipywidgets.readthedocs.io/en/stable/user_install.html\n",
      "  from .autonotebook import tqdm as notebook_tqdm\n"
     ]
    }
   ],
   "source": [
    "import torch\n",
    "from torch import nn\n",
    "import matplotlib.pyplot as plt\n",
    "import itertools\n",
    "import pandas as pd\n",
    "import torch_geometric as pyg\n",
    "import networkx as nx\n",
    "import numpy as np\n",
    "\n",
    "from mil.data.mnist import Bag, MNISTBags, OneHotMNISTBags, MNISTCollage, OneHotMNISTCollage\n",
    "from mil.utils import device, detach\n",
    "from mil.models import MILModel\n",
    "from mil.utils.visualize import print_one_hot_bag_with_attention, print_one_hot_bag, plot_attention_head, plot_bag\n",
    "from mil.models.attention import WeightedAverageAttention, MultiHeadAttention"
   ]
  },
  {
   "attachments": {},
   "cell_type": "markdown",
   "metadata": {},
   "source": [
    "# MNIST bags / MNIST collage\n",
    "\n",
    "This notebook trains models on variations of the *mnist-bags*, *multi-mnist-bags*, and *mnist-collage* datasets. \n",
    "The goal of this notebook is to see which models are able to overfit on these datasets.\n",
    "\n",
    "\n",
    "The following cell defines three variables, `DATASET`, `TARGET_NUMBERS` and `MODEL` which can be used to run different dataset/model configurations.\n",
    "\n",
    "`DATASET`:\n",
    "- `OneHotMNISTBags`: one-hot version of *mnist-bags*, where the dataset yields 10-dimensional one-hot encoded feature vectors directly (i.e. we are not yet working with MNIST digits)\n",
    "- `MNISTBags`: the *mnist-bags* dataset\n",
    "- `OneHotMNISTCollage`: one-hot version of *mnist-collage*\n",
    "- `MNISTCollage`: *mnist-collage* dataset\n",
    "\n",
    "`TARGET_NUMBERS`:\n",
    "- `0` corresponds to the *mnist-bags* dataset\n",
    "- `(0, 1)` corresponds to the *multi-mnist-bags* dataset\n",
    "\n",
    "`MODELS`:\n",
    "- `\"mean_pool\"`: simple baseline that uses mean pooling. Works neither dataset.\n",
    "- `\"max_pool\"`: simple baseline that uses max pooling. Works for *mnist-bags*, but not *multi-mnist-bags*.\n",
    "- `\"weighted_average_attention\"`: uses attention mechanism from \"Attention Based Deep Multiple Instance Learning\" paper which can only \"focus\" on one target number at a time. Works for *mnist-bags*, but not *multi-mnist-bags*.\n",
    "- `\"self_attention_mean_pooling\"`: uses a single transformer layer (self attention) followed by mean pooling. Works for both datasets.\n",
    "- `\"self_attention_max_pooling\"`: uses a single transformer layer (self attention) followed by max pooling. Works for both datasets (but better than mean pooling).\n",
    "\n",
    "\n",
    "Try changing `DATASET`, `TARGET_NUMBERS` and `MODELS` below and rerunning the notebook."
   ]
  },
  {
   "cell_type": "code",
   "execution_count": 2,
   "metadata": {},
   "outputs": [],
   "source": [
    "DATASET = OneHotMNISTBags\n",
    "DATASET = MNISTBags\n",
    "DATASET = OneHotMNISTCollage\n",
    "# DATASET = MNISTCollage\n",
    "\n",
    "TARGET_NUMBERS = 0\n",
    "TARGET_NUMBERS = (0, 1)\n",
    "\n",
    "# MODEL = \"mean_pool\"\n",
    "# MODEL = \"max_pool\"\n",
    "# MODEL = \"weighted_average_attention\"\n",
    "# MODEL = \"self_attention_mean_pool\"\n",
    "# MODEL = \"self_attention_max_pool\"\n",
    "MODEL = \"gcn_max_pool\"\n",
    "# MODEL = \"dense_gcn_max_pool\"\n",
    "# MODEL = \"gat_max_pool\"\n",
    "\n",
    "# Only for collages\n",
    "COLLAGE_SIZE = 256\n",
    "MIN_DIST = 20\n",
    "\n",
    "NUM_DIGITS = 10\n",
    "if DATASET.__name__.startswith(\"OneHot\"):\n",
    "    FEATURE_SIZE = NUM_DIGITS # must be NUM_DIGITS due to one-hot encoding\n",
    "    HIDDEN_DIM = 10\n",
    "else:\n",
    "    FEATURE_SIZE = 64\n",
    "    HIDDEN_DIM = 10"
   ]
  },
  {
   "cell_type": "code",
   "execution_count": 3,
   "metadata": {},
   "outputs": [],
   "source": [
    "def make_data_loader(train: bool = True):\n",
    "    \"\"\"Utility function to create a data loader for the dataset.\"\"\"\n",
    "    extra_kwargs = {}\n",
    "    if \"Collage\" in DATASET.__name__:\n",
    "        extra_kwargs[\"collage_size\"] = COLLAGE_SIZE\n",
    "        extra_kwargs[\"min_dist\"] = MIN_DIST\n",
    "    ds = DATASET(target_numbers=TARGET_NUMBERS, # target number\n",
    "                 num_digits=NUM_DIGITS, # sample from all 10 MNIST digits\n",
    "                 mean_bag_size=10, # mean bag length\n",
    "                 var_bag_size=2, # variance of bag length\n",
    "                 num_bags=250 if train else 100, # number of bags\n",
    "                 seed=1,\n",
    "                 train=train,\n",
    "                 **extra_kwargs)\n",
    "    loader = torch.utils.data.DataLoader(ds, batch_size=1, shuffle=train, collate_fn=lambda x: x[0])\n",
    "    return loader"
   ]
  },
  {
   "attachments": {},
   "cell_type": "markdown",
   "metadata": {},
   "source": [
    "## Define the model\n",
    "\n",
    "The three parts of the MIL model are:\n",
    "1. **feature extractor**: extract a feature vector $z \\in \\mathbb{R}^D$ from each instance. In the case of the one-hot dataset, this is just the identity function. For the actual *mnist-bags* dataset, this is a CNN.\n",
    "2. **pooling**: a function $f : \\mathbb{R}^{N \\times D} \\to \\mathbb{R}^D$ that aggregates the $N$ feature vectors in the bag to a single feature vector.\n",
    "3. **classifier**: a function $g : \\mathbb{R}^D \\to \\mathbb{R}$ that transforms the aggregated feature vector into a binary classification prediction (we parameterise $g$ using a linear layer followed by a sigmoid)\n"
   ]
  },
  {
   "cell_type": "code",
   "execution_count": 4,
   "metadata": {},
   "outputs": [],
   "source": [
    "class OneHotFeatureExtractor(nn.Module):\n",
    "    def forward(self, bag: Bag):\n",
    "        # In the case of OneHotBags, the instances are already the features.\n",
    "        return bag.instances\n",
    "\n",
    "class CNNFeatureExtractor(nn.Module):\n",
    "    def __init__(self, feature_size: int):\n",
    "        super().__init__()\n",
    "        self.cnn = nn.Sequential(\n",
    "            nn.Conv2d(1, 10, kernel_size=5),\n",
    "            nn.ReLU(),\n",
    "            nn.MaxPool2d(2, stride=2),\n",
    "            nn.Dropout2d(.1),\n",
    "            nn.Conv2d(10, 20, kernel_size=5),\n",
    "            nn.ReLU(),\n",
    "            nn.MaxPool2d(2, stride=2),\n",
    "            nn.Flatten(-3, -1),\n",
    "            nn.Dropout(.1),\n",
    "            nn.Linear(20 * 4 * 4, feature_size),\n",
    "            nn.ReLU()\n",
    "        )\n",
    "\n",
    "    def forward(self, bag: Bag):\n",
    "        return self.cnn(bag.instances)\n",
    "        \n",
    "class GNN(nn.Module):\n",
    "    \"\"\"GNN model.\n",
    "    \n",
    "    The layer parameter can be used to specify the type of GNN layer to use (e.g. pyg.nn.GCNConv, pyg.nn.GATConv, pyg.nn.DenseGCNConv).\n",
    "    \"\"\"\n",
    "\n",
    "    def __init__(self, feature_size: int, hidden_dim: int, layer=pyg.nn.GCNConv):\n",
    "        super().__init__()\n",
    "        self.layer = layer\n",
    "        self.gnn = pyg.nn.Sequential('x, connectivity', [\n",
    "            (layer(feature_size, hidden_dim), 'x, connectivity -> x'),\n",
    "            nn.ReLU(inplace=True),\n",
    "            (layer(hidden_dim, feature_size), 'x, connectivity -> x'),\n",
    "            nn.ReLU(inplace=True),\n",
    "        ])\n",
    "\n",
    "    def forward(self, bag, features):\n",
    "        number_of_nodes = features.shape[0]\n",
    "        instance_locations = bag.instance_locations # TODO: use instance locations if not None\n",
    "        # Assume complete graph\n",
    "        if self.layer == pyg.nn.DenseGCNConv:\n",
    "            # DenseGCNConv requires a dense adjacency matrix\n",
    "            adj = torch.ones((number_of_nodes, number_of_nodes))\n",
    "            connectivity = adj\n",
    "        else:\n",
    "            edge_index = np.array(nx.complete_graph(number_of_nodes).edges).T # complete (directed) graph\n",
    "            edge_index = np.concatenate([edge_index, edge_index[::-1]], axis=-1) # undirected graph\n",
    "            edge_index = torch.from_numpy(edge_index)\n",
    "            connectivity = edge_index\n",
    "        batch = torch.tensor([0] * number_of_nodes)\n",
    "        x = self.gnn(features, connectivity)\n",
    "        x = pyg.nn.global_max_pool(x, batch)\n",
    "        return x\n",
    "\n",
    "class Aggregate(nn.Module):\n",
    "    \"\"\"Simple pooling layer for mean/max pooling.\"\"\"\n",
    "    def __init__(self, pool: str = \"mean\", dim: int = 0):\n",
    "        super().__init__()\n",
    "        self.pool = pool\n",
    "        self.dim = dim\n",
    "\n",
    "    def forward(self, features):\n",
    "        pool = getattr(torch, self.pool)\n",
    "        result = pool(features, dim=self.dim)\n",
    "        if self.pool == \"max\":\n",
    "            result = result.values\n",
    "        return result\n",
    "\n",
    "class Pooler(nn.Module):\n",
    "    \"\"\"Convienience wrapper for pooling layers.\"\"\"\n",
    "    def __init__(self, pooling_layer: nn.Module):\n",
    "        super().__init__()\n",
    "        self.pooling_layer = pooling_layer\n",
    "    \n",
    "    def forward(self, bag, features):\n",
    "        return self.pooling_layer(features)\n",
    "\n",
    "class Classifier(nn.Sequential):\n",
    "    def __init__(self, feature_size: int):\n",
    "        super().__init__(\n",
    "            nn.Linear(feature_size, 1),\n",
    "            nn.Sigmoid()\n",
    "        )\n",
    "\n",
    "# Keep track of attention layer for visualization\n",
    "attention_layer = None\n",
    "\n",
    "# Define model\n",
    "feature_extractor = OneHotFeatureExtractor() if DATASET.__name__.startswith(\"OneHot\") else CNNFeatureExtractor(feature_size=FEATURE_SIZE)\n",
    "if MODEL == \"mean_pool\":\n",
    "    model = MILModel(feature_extractor=feature_extractor,\n",
    "                     pooler=Pooler(Aggregate(\"mean\")),\n",
    "                     classifier=Classifier(feature_size=FEATURE_SIZE))\n",
    "elif MODEL == \"max_pool\":\n",
    "    model = MILModel(feature_extractor=feature_extractor,\n",
    "                     pooler=Pooler(Aggregate(\"max\")),\n",
    "                     classifier=Classifier(feature_size=FEATURE_SIZE))\n",
    "elif MODEL == \"weighted_average_attention\":\n",
    "    attention_layer = WeightedAverageAttention(feature_size=FEATURE_SIZE, hidden_dim=HIDDEN_DIM)\n",
    "    model = MILModel(feature_extractor=feature_extractor,\n",
    "                     pooler=Pooler(attention_layer),\n",
    "                     classifier=Classifier(feature_size=FEATURE_SIZE))\n",
    "elif MODEL == \"self_attention_mean_pool\":\n",
    "    attention_layer = MultiHeadAttention(feature_size=FEATURE_SIZE, hidden_dim=HIDDEN_DIM)\n",
    "    pool = nn.Sequential(attention_layer, Aggregate(\"mean\"))\n",
    "    model = MILModel(feature_extractor=feature_extractor,\n",
    "                     pooler=Pooler(pool),\n",
    "                     classifier=Classifier(feature_size=FEATURE_SIZE))\n",
    "elif MODEL == \"self_attention_max_pool\":\n",
    "    attention_layer = MultiHeadAttention(feature_size=FEATURE_SIZE, hidden_dim=HIDDEN_DIM)\n",
    "    pool = nn.Sequential(attention_layer, Aggregate(\"max\"))\n",
    "    model = MILModel(feature_extractor=feature_extractor,\n",
    "                     pooler=Pooler(pool),\n",
    "                     classifier=Classifier(feature_size=FEATURE_SIZE))\n",
    "elif MODEL == \"gcn_max_pool\":\n",
    "    gnn = GNN(feature_size=FEATURE_SIZE, hidden_dim=HIDDEN_DIM, layer=pyg.nn.GCNConv)\n",
    "    model = MILModel(feature_extractor=feature_extractor,\n",
    "                     pooler=gnn,\n",
    "                     classifier=Classifier(feature_size=FEATURE_SIZE))\n",
    "elif MODEL == \"dense_gcn_max_pool\":\n",
    "    gnn = GNN(feature_size=FEATURE_SIZE, hidden_dim=HIDDEN_DIM, layer=pyg.nn.DenseGCNConv)\n",
    "    model = MILModel(feature_extractor=feature_extractor,\n",
    "                     pooler=gnn,\n",
    "                     classifier=Classifier(feature_size=FEATURE_SIZE))\n",
    "elif MODEL == \"gat_max_pool\":\n",
    "    gnn = GNN(feature_size=FEATURE_SIZE, hidden_dim=HIDDEN_DIM, layer=pyg.nn.GATConv)\n",
    "    model = MILModel(feature_extractor=feature_extractor,\n",
    "                     pooler=gnn,\n",
    "                     classifier=Classifier(feature_size=FEATURE_SIZE))\n",
    "else:\n",
    "    raise ValueError(f\"Unknown model {MODEL}\")\n"
   ]
  },
  {
   "attachments": {},
   "cell_type": "markdown",
   "metadata": {},
   "source": [
    "## Define loss function and optimizer\n",
    "\n",
    "We use binary cross-entropy loss."
   ]
  },
  {
   "cell_type": "code",
   "execution_count": 5,
   "metadata": {},
   "outputs": [],
   "source": [
    "loss_function = nn.BCELoss()\n",
    "optimizer = torch.optim.AdamW(model.parameters(), lr=1e-3, weight_decay=1e-2)"
   ]
  },
  {
   "attachments": {},
   "cell_type": "markdown",
   "metadata": {},
   "source": [
    "Helper code to evaluate on test set:"
   ]
  },
  {
   "cell_type": "code",
   "execution_count": 6,
   "metadata": {},
   "outputs": [],
   "source": [
    "test_loader = make_data_loader(train=False)\n",
    "\n",
    "def test_loss_and_error(model, loader):\n",
    "    model.eval()\n",
    "\n",
    "    total_loss = 0.\n",
    "    total_error = 0.\n",
    "    predictions = []\n",
    "\n",
    "    with torch.no_grad():\n",
    "        for i, bag in enumerate(loader):\n",
    "            bag = device(bag)\n",
    "            y = bag.bag_label.float()\n",
    "\n",
    "            # Calculate loss and metrics\n",
    "            y_pred = model(bag).squeeze()\n",
    "            loss = loss_function(y_pred, y)\n",
    "\n",
    "            predictions.append(y, y_pred.cpu().detach().numpy()\n",
    "\n",
    "            error = 1. - ((y_pred > .5).float() == y).cpu().detach().float()\n",
    "            total_error += error\n",
    "            total_loss += loss.detach().cpu()\n",
    "    return total_loss / len(loader), total_error / len(loader), predictions"
   ]
  },
  {
   "attachments": {},
   "cell_type": "markdown",
   "metadata": {},
   "source": [
    "## Train"
   ]
  },
  {
   "cell_type": "code",
   "execution_count": 7,
   "metadata": {},
   "outputs": [
    {
     "name": "stdout",
     "output_type": "stream",
     "text": [
      "Epoch:   0, loss: 0.6932, error: 0.4920, test_loss: 0.6908, test_error: 0.5100\n",
      "Epoch:   1, loss: 0.6844, error: 0.3880, test_loss: 0.6818, test_error: 0.3800\n",
      "Epoch:   2, loss: 0.6701, error: 0.3120, test_loss: 0.6628, test_error: 0.3200\n",
      "Epoch:   3, loss: 0.6447, error: 0.2600, test_loss: 0.6350, test_error: 0.2600\n",
      "Epoch:   4, loss: 0.6099, error: 0.2600, test_loss: 0.6017, test_error: 0.2500\n",
      "Epoch:   5, loss: 0.5719, error: 0.2160, test_loss: 0.5647, test_error: 0.2500\n",
      "Epoch:   6, loss: 0.5342, error: 0.2560, test_loss: 0.5390, test_error: 0.2300\n",
      "Epoch:   7, loss: 0.5062, error: 0.2440, test_loss: 0.5209, test_error: 0.2600\n",
      "Epoch:   8, loss: 0.4896, error: 0.2360, test_loss: 0.5180, test_error: 0.2200\n",
      "Epoch:   9, loss: 0.4808, error: 0.2400, test_loss: 0.5144, test_error: 0.2700\n",
      "Epoch:  10, loss: 0.4720, error: 0.2160, test_loss: 0.5023, test_error: 0.2600\n",
      "Epoch:  11, loss: 0.4685, error: 0.2240, test_loss: 0.5056, test_error: 0.2200\n",
      "Epoch:  12, loss: 0.4658, error: 0.2240, test_loss: 0.4974, test_error: 0.2400\n",
      "Epoch:  13, loss: 0.4614, error: 0.2240, test_loss: 0.5005, test_error: 0.2100\n",
      "Epoch:  14, loss: 0.4561, error: 0.2120, test_loss: 0.4977, test_error: 0.2700\n",
      "Epoch:  15, loss: 0.4534, error: 0.2120, test_loss: 0.4952, test_error: 0.2700\n",
      "Epoch:  16, loss: 0.4526, error: 0.2080, test_loss: 0.4924, test_error: 0.2400\n",
      "Epoch:  17, loss: 0.4465, error: 0.2160, test_loss: 0.4943, test_error: 0.2400\n",
      "Epoch:  18, loss: 0.4444, error: 0.2160, test_loss: 0.4951, test_error: 0.2100\n",
      "Epoch:  19, loss: 0.4447, error: 0.2000, test_loss: 0.4914, test_error: 0.2100\n",
      "Epoch:  20, loss: 0.4401, error: 0.2040, test_loss: 0.4895, test_error: 0.2500\n",
      "Epoch:  21, loss: 0.4392, error: 0.2120, test_loss: 0.4834, test_error: 0.2500\n",
      "Epoch:  22, loss: 0.4356, error: 0.2080, test_loss: 0.4831, test_error: 0.2400\n",
      "Epoch:  23, loss: 0.4335, error: 0.2000, test_loss: 0.4816, test_error: 0.2500\n",
      "Epoch:  24, loss: 0.4318, error: 0.2200, test_loss: 0.4811, test_error: 0.2500\n",
      "Epoch:  25, loss: 0.4275, error: 0.2160, test_loss: 0.4794, test_error: 0.2500\n",
      "Epoch:  26, loss: 0.4266, error: 0.2040, test_loss: 0.4739, test_error: 0.2400\n",
      "Epoch:  27, loss: 0.4241, error: 0.1920, test_loss: 0.4731, test_error: 0.2200\n",
      "Epoch:  28, loss: 0.4203, error: 0.1960, test_loss: 0.4684, test_error: 0.2200\n",
      "Epoch:  29, loss: 0.4170, error: 0.1960, test_loss: 0.4677, test_error: 0.2300\n",
      "Epoch:  30, loss: 0.4130, error: 0.1800, test_loss: 0.4640, test_error: 0.2400\n",
      "Epoch:  31, loss: 0.4127, error: 0.2040, test_loss: 0.4638, test_error: 0.2300\n",
      "Epoch:  32, loss: 0.4035, error: 0.1880, test_loss: 0.4600, test_error: 0.2200\n",
      "Epoch:  33, loss: 0.4056, error: 0.1880, test_loss: 0.4627, test_error: 0.2400\n",
      "Epoch:  34, loss: 0.4013, error: 0.1840, test_loss: 0.4537, test_error: 0.2300\n",
      "Epoch:  35, loss: 0.3971, error: 0.1920, test_loss: 0.4513, test_error: 0.2200\n",
      "Epoch:  36, loss: 0.3924, error: 0.1840, test_loss: 0.4483, test_error: 0.2400\n",
      "Epoch:  37, loss: 0.3885, error: 0.1720, test_loss: 0.4490, test_error: 0.2300\n",
      "Epoch:  38, loss: 0.3850, error: 0.1760, test_loss: 0.4450, test_error: 0.2300\n",
      "Epoch:  39, loss: 0.3830, error: 0.1760, test_loss: 0.4458, test_error: 0.2200\n"
     ]
    },
    {
     "data": {
      "text/plain": [
       "<matplotlib.legend.Legend at 0x1507265b0>"
      ]
     },
     "execution_count": 7,
     "metadata": {},
     "output_type": "execute_result"
    },
    {
     "data": {
      "image/png": "[encoded data removed]",
      "text/plain": [
       "<Figure size 1200x400 with 2 Axes>"
      ]
     },
     "metadata": {},
     "output_type": "display_data"
    }
   ],
   "source": [
    "loader = make_data_loader(train=True)\n",
    "\n",
    "stats = []\n",
    "\n",
    "for epoch in range(40):\n",
    "    model.train()\n",
    "    total_loss = 0.\n",
    "    total_error = 0.\n",
    "    for bag in loader:\n",
    "        bag = device(bag)\n",
    "        y = bag.bag_label\n",
    "\n",
    "        optimizer.zero_grad()\n",
    "\n",
    "        # Calculate loss and metrics\n",
    "        y_pred = model(bag).squeeze()\n",
    "        loss = loss_function(y_pred, y)\n",
    "\n",
    "        error = 1. - ((y_pred > .5).float() == y).cpu().detach().float()\n",
    "        total_error += error\n",
    "        \n",
    "        # Backward pass\n",
    "        loss.backward()\n",
    "\n",
    "        total_loss += loss.detach().cpu()\n",
    "        # Step\n",
    "        optimizer.step()\n",
    "    \n",
    "    test_loss, test_error = test_loss_and_error(model, test_loader)\n",
    "\n",
    "    stats.append({\n",
    "        \"epoch\": epoch,\n",
    "        \"loss\": total_loss / len(loader),\n",
    "        \"error\": total_error / len(loader),\n",
    "        \"test_loss\": test_loss,\n",
    "        \"test_error\": test_error\n",
    "    })\n",
    "    print(\n",
    "        f\"Epoch: {epoch:3d}, loss: {total_loss/len(loader):.4f}, error: {total_error/len(loader):.4f}, test_loss: {test_loss:.4f}, test_error: {test_error:.4f}\")\n",
    "\n",
    "# Plot training and test loss/error\n",
    "stats = pd.DataFrame(stats)\n",
    "\n",
    "plt.figure(figsize=(12, 4))\n",
    "plt.subplot(121)\n",
    "plt.title(\"Loss\")\n",
    "plt.plot(stats[\"epoch\"], stats[\"loss\"], label=\"train\")\n",
    "plt.plot(stats[\"epoch\"], stats[\"test_loss\"], label=\"test\")\n",
    "plt.xlabel(\"Epoch\")\n",
    "plt.ylabel(\"Loss\")\n",
    "plt.legend()\n",
    "\n",
    "plt.subplot(122)\n",
    "plt.title(\"Error\")\n",
    "plt.plot(stats[\"epoch\"], stats[\"error\"], label=\"train\")\n",
    "plt.plot(stats[\"epoch\"], stats[\"test_error\"], label=\"test\")\n",
    "plt.xlabel(\"Epoch\")\n",
    "plt.ylabel(\"Error\")\n",
    "plt.legend()"
   ]
  },
  {
   "attachments": {},
   "cell_type": "markdown",
   "metadata": {},
   "source": [
    "## Test"
   ]
  },
  {
   "cell_type": "code",
   "execution_count": 8,
   "metadata": {},
   "outputs": [
    {
     "name": "stdout",
     "output_type": "stream",
     "text": [
      "Test loss: 0.4458, test error: 0.2200\n"
     ]
    }
   ],
   "source": [
    "test_loss, test_error = test_loss_and_error(model, test_loader)\n",
    "print(f\"Test loss: {test_loss:.4f}, test error: {test_error:.4f}\")"
   ]
  },
  {
   "attachments": {},
   "cell_type": "markdown",
   "metadata": {},
   "source": [
    "### First 10 bags in test dataset"
   ]
  },
  {
   "cell_type": "code",
   "execution_count": 9,
   "metadata": {},
   "outputs": [
    {
     "name": "stdout",
     "output_type": "stream",
     "text": [
      "++ bag: {2 3 7 4 \u001b[91m1\u001b[0m 5 8 3 1 \u001b[91m0\u001b[0m 8 8 4}\n",
      "++ bag: {2 7 6 \u001b[91m0\u001b[0m \u001b[91m1\u001b[0m 5 7 0}\n",
      "++ bag: {6 3 1 \u001b[91m1\u001b[0m \u001b[91m0\u001b[0m 4}\n",
      "++ bag: {5 2 3 \u001b[91m1\u001b[0m 6 \u001b[91m0\u001b[0m \u001b[91m1\u001b[0m 3}\n",
      "++ bag: {\u001b[91m0\u001b[0m 0 5 8 2 \u001b[91m1\u001b[0m 9 2 0 6 5}\n",
      "++ bag: {7 \u001b[91m1\u001b[0m 3 5 5 \u001b[91m0\u001b[0m 3}\n",
      "++ bag: {7 0 \u001b[91m1\u001b[0m 9 7 \u001b[91m0\u001b[0m 7 1}\n",
      "++ bag: {\u001b[91m0\u001b[0m \u001b[91m1\u001b[0m 4 5 4 7 6 7 2}\n",
      "++ bag: {\u001b[91m0\u001b[0m 8 6 6 2 \u001b[91m1\u001b[0m}\n",
      "++ bag: {7 4 5 \u001b[91m1\u001b[0m \u001b[91m1\u001b[0m 1 \u001b[91m0\u001b[0m}\n"
     ]
    }
   ],
   "source": [
    "def visualize_prediction(bag, y_pred):\n",
    "    y = bag.bag_label\n",
    "    if DATASET.__name__.startswith(\"OneHot\"):\n",
    "        if isinstance(attention_layer, WeightedAverageAttention):\n",
    "            print_one_hot_bag_with_attention(bag, attention_layer.A, y_pred>.5)\n",
    "            print()\n",
    "        elif isinstance(attention_layer, MultiHeadAttention):\n",
    "            plt.figure()\n",
    "            plot_attention_head(bag, attention_layer.A[0])\n",
    "            plt.title(f\"Bag label: {y.item():.0f}, pred: {y_pred.item():.2f}\")\n",
    "        else:\n",
    "            print_one_hot_bag(bag, y_pred>.5)\n",
    "    else:\n",
    "        if isinstance(attention_layer, WeightedAverageAttention):\n",
    "            plot_bag(bag, y_pred=y_pred, attention=attention_layer.A.squeeze(-1))\n",
    "        elif isinstance(attention_layer, MultiHeadAttention):\n",
    "            plot_bag(bag, y_pred=y_pred)\n",
    "            plt.figure()\n",
    "            plot_attention_head(bag, attention_layer.A[0])\n",
    "            plt.title(f\"Bag label: {y.item():.0f}, pred: {y_pred.item():.2f}\")\n",
    "        else:\n",
    "            plot_bag(bag, y_pred=y_pred)\n",
    "\n",
    "# Visualize first 10 bags\n",
    "model.eval()\n",
    "with torch.no_grad():\n",
    "    for bag in itertools.islice(test_loader, 10):\n",
    "        bag = device(bag)\n",
    "        y = bag.bag_label.float()\n",
    "        y_pred = model(bag).squeeze(0)\n",
    "        visualize_prediction(bag, y_pred)"
   ]
  },
  {
   "attachments": {},
   "cell_type": "markdown",
   "metadata": {},
   "source": [
    "### First 10 mistakes in test dataset"
   ]
  },
  {
   "cell_type": "code",
   "execution_count": 10,
   "metadata": {},
   "outputs": [
    {
     "name": "stdout",
     "output_type": "stream",
     "text": [
      "+- bag: {5 9 6 6 6 \u001b[91m0\u001b[0m \u001b[91m1\u001b[0m 8 7}\n",
      "+- bag: {2 4 \u001b[91m0\u001b[0m 6 7 \u001b[91m1\u001b[0m 5 7 2 6}\n",
      "+- bag: {2 8 4 6 8 \u001b[91m0\u001b[0m 5 8 \u001b[91m1\u001b[0m 6 3}\n",
      "+- bag: {6 \u001b[91m0\u001b[0m 4 4 6 \u001b[91m1\u001b[0m 9 4 5 5 6 9}\n",
      "-+ bag: {6 0 1 1 1 5 5 7 5 8 0}\n",
      "-+ bag: {6 8 7 9 1 0 1 4 1 9 7 2}\n",
      "-+ bag: {0 8 3 2 9 1 7}\n",
      "-+ bag: {3 6 0 6 1 5 6 9 4}\n",
      "-+ bag: {8 9 9 4 4 3 5 4 5 1 1 0 2}\n",
      "-+ bag: {0 7 0 1 0 8 4 8 9}\n"
     ]
    }
   ],
   "source": [
    "# Visualize first 10 mistakes\n",
    "model.eval()\n",
    "with torch.no_grad():\n",
    "    i = 0\n",
    "    for bag in test_loader:\n",
    "        if i == 10:\n",
    "            break\n",
    "        bag = device(bag)\n",
    "        y = bag.bag_label.float()\n",
    "        y_pred = model(bag).squeeze(0)\n",
    "        if ((y_pred > .5).float() != y).cpu().detach():\n",
    "            visualize_prediction(bag, y_pred)\n",
    "            i += 1"
   ]
  },
  {
   "cell_type": "code",
   "execution_count": null,
   "metadata": {},
   "outputs": [],
   "source": []
  }
 ],
 "metadata": {
  "kernelspec": {
   "display_name": "mil_env",
   "language": "python",
   "name": "python3"
  },
  "language_info": {
   "codemirror_mode": {
    "name": "ipython",
    "version": 3
   },
   "file_extension": ".py",
   "mimetype": "text/x-python",
   "name": "python",
   "nbconvert_exporter": "python",
   "pygments_lexer": "ipython3",
   "version": "3.9.14"
  },
  "orig_nbformat": 4,
  "vscode": {
   "interpreter": {
    "hash": "4c9fd67272ea84311f345998ded15448eae14049925f8c615034a0fe8c9b6777"
   }
  }
 },
 "nbformat": 4,
 "nbformat_minor": 2
}
